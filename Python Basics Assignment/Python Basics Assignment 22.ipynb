{
 "cells": [
  {
   "cell_type": "markdown",
   "id": "a444b647",
   "metadata": {},
   "source": [
    "# Assignment 22"
   ]
  },
  {
   "cell_type": "markdown",
   "id": "509955ca",
   "metadata": {},
   "source": [
    "## 1. What is the result of the code, and explain?\n",
    "\n",
    "<i> >>> X = 'iNeuron'</i>\n",
    "    \n",
    "<i> >>> def func():</i>\n",
    "    \n",
    "print(X)\n",
    "\n",
    "<i> >>> func()</i>"
   ]
  },
  {
   "cell_type": "markdown",
   "id": "03f7b61c",
   "metadata": {},
   "source": [
    "<b> Ans:<b/>\n",
    "    \n",
    "- The global variables are accessible in side the functions in python. \n",
    "- But we can not access function variable out side function. \n",
    "- Since x is golbal variable we are able to print it in side the function\n",
    "   \n",
    "solution : 'iNeuron'"
   ]
  },
  {
   "cell_type": "code",
   "execution_count": 2,
   "id": "d663bdd0",
   "metadata": {},
   "outputs": [
    {
     "name": "stdout",
     "output_type": "stream",
     "text": [
      "iNeuron\n"
     ]
    }
   ],
   "source": [
    "X = 'iNeuron'\n",
    "def func():\n",
    "    print(X)\n",
    "func()\n"
   ]
  },
  {
   "cell_type": "markdown",
   "id": "f7b51c1a",
   "metadata": {},
   "source": [
    "## 2. What is the result of the code, and explain?\n",
    "\n",
    "<i> >>> X = 'iNeuron'</i>\n",
    "\n",
    "<i> >>> def func():</i>\n",
    "\n",
    "X = 'NI!'\n",
    "\n",
    "<i> >>> func()<i/>\n",
    "    \n",
    "<i> >>> print(X)<i/>\n"
   ]
  },
  {
   "cell_type": "markdown",
   "id": "903a950a",
   "metadata": {},
   "source": [
    "<b> Ans:<b/>\n",
    "- The global variables are access in side the functions in python.\n",
    "- But we can not access function variable out side function. \n",
    "- Since x is golbal variable we are able to print it out side of the function\n",
    "    \n",
    "solution = 'iNeuron'"
   ]
  },
  {
   "cell_type": "code",
   "execution_count": 3,
   "id": "fa408273",
   "metadata": {},
   "outputs": [
    {
     "name": "stdout",
     "output_type": "stream",
     "text": [
      "NI!\n"
     ]
    }
   ],
   "source": [
    "X = 'iNeuron'\n",
    "def func():\n",
    "    X = 'NI!'\n",
    "    print(X)\n",
    "func()"
   ]
  },
  {
   "cell_type": "markdown",
   "id": "4144f26c",
   "metadata": {},
   "source": [
    "## 3. What does this code print, and why?\n",
    "\n",
    "<i> >>> X = 'iNeuron'<i/>\n",
    "    \n",
    "<i> >>> def func():<i/>\n",
    "    \n",
    "X = 'NI'\n",
    "    \n",
    "print(X)\n",
    "\n",
    "<i> >>> func()<i/>\n",
    "    \n",
    "<i> >>> print(X)<i/>\n"
   ]
  },
  {
   "cell_type": "markdown",
   "id": "e5f405ed",
   "metadata": {},
   "source": [
    "Ans:\n",
    "The output of the code is NI and iNeuron. X=NI is in the local scope of the function func() hence the function prints the x value as NI. X = 'iNeuron' is in the global scope. hence print(X) prints output as iNeuron"
   ]
  },
  {
   "cell_type": "code",
   "execution_count": 4,
   "id": "524bddcb",
   "metadata": {},
   "outputs": [
    {
     "name": "stdout",
     "output_type": "stream",
     "text": [
      "NI\n",
      "iNeuron\n"
     ]
    }
   ],
   "source": [
    "X = 'iNeuron'\n",
    "def func():\n",
    "    X = 'NI'\n",
    "    print(X)\n",
    "func()\n",
    "print(X)\n"
   ]
  },
  {
   "cell_type": "markdown",
   "id": "4ca5830f",
   "metadata": {},
   "source": [
    "## 4. What output does this code produce? Why?\n",
    "\n",
    "<i> >>> X = 'iNeuron'<i/>\n",
    "    \n",
    "<i> >>> def func():<i/>\n",
    "    \n",
    "global X\n",
    "    \n",
    "X = 'NI'\n",
    "\n",
    "<i> >>> func()<i/>\n",
    "    \n",
    "<i> >>> print(X)<i/>\n"
   ]
  },
  {
   "cell_type": "markdown",
   "id": "6325f24a",
   "metadata": {},
   "source": [
    "<div> Ans: <div/>\n",
    "    \n",
    "- since the X inside function is made Global, it will be accesible outside of the function too. \n",
    "- now X will have new value.\n",
    "\n",
    "solution : 'NI!', 'NI!'"
   ]
  },
  {
   "cell_type": "code",
   "execution_count": 6,
   "id": "66a6952a",
   "metadata": {},
   "outputs": [
    {
     "name": "stdout",
     "output_type": "stream",
     "text": [
      "NI!\n",
      "NI!\n"
     ]
    }
   ],
   "source": [
    "X = 'iNeuron'\n",
    "def func():\n",
    "    global X\n",
    "    X = 'NI!'\n",
    "    print(X)\n",
    "\n",
    "func()\n",
    "print(X)\n"
   ]
  },
  {
   "cell_type": "markdown",
   "id": "7cd78c79",
   "metadata": {},
   "source": [
    "## 5. What about this code—what’s the output, and why?\n",
    "\n",
    "<i> >>> X = 'iNeuron'<i/>\n",
    "\n",
    "<i> >>> def func():<i/>\n",
    "\n",
    "X = 'NI'\n",
    "\n",
    "def nested():\n",
    "\n",
    "print(X)\n",
    "\n",
    "nested()\n",
    "\n",
    "<i> >>> func()<i/>\n",
    "\n",
    "<i> >>> X<i/>"
   ]
  },
  {
   "cell_type": "markdown",
   "id": "31238b14",
   "metadata": {},
   "source": [
    "<div> Ans: <div/>\n",
    "    \n",
    "- the nested() function will print 'iNeuron', Then func() does not display anything,\n",
    "- and x ='NI' is not accessible outside the function.\n",
    "Solution : 'iNeuron'"
   ]
  },
  {
   "cell_type": "code",
   "execution_count": 8,
   "id": "362eb4d4",
   "metadata": {},
   "outputs": [
    {
     "name": "stdout",
     "output_type": "stream",
     "text": [
      "iNeuron\n"
     ]
    },
    {
     "data": {
      "text/plain": [
       "'iNeuron'"
      ]
     },
     "execution_count": 8,
     "metadata": {},
     "output_type": "execute_result"
    }
   ],
   "source": [
    "X = 'iNeuron'\n",
    "def func():\n",
    "    X = 'NI'\n",
    "def nested():\n",
    "    print(X)\n",
    "    \n",
    "nested()\n",
    "func()\n",
    "X"
   ]
  },
  {
   "cell_type": "markdown",
   "id": "d3285207",
   "metadata": {},
   "source": [
    "## 6. How about this code: what is its output in Python 3, and explain?\n",
    "\n",
    "<i>>>> def func():<i/>\n",
    "    \n",
    "X = 'NI'\n",
    "    \n",
    "def nested():\n",
    "    \n",
    "nonlocal X\n",
    "    \n",
    "X = 'Spam'\n",
    "    \n",
    "nested()\n",
    "    \n",
    "print(X)\n",
    "\n",
    "<i> >>> func()<i/>\n",
    "\n"
   ]
  },
  {
   "cell_type": "markdown",
   "id": "fc6517d3",
   "metadata": {},
   "source": [
    "Ans: The output of the code is Spam. nonlocal keyword in python is used to declare a variable as not local.Hence the statement X = \"Spam\" is modified in the global scope. hence the output of print(X) statement is Spam"
   ]
  },
  {
   "cell_type": "code",
   "execution_count": 9,
   "id": "71f2e5a0",
   "metadata": {},
   "outputs": [
    {
     "name": "stdout",
     "output_type": "stream",
     "text": [
      "spam\n"
     ]
    }
   ],
   "source": [
    "def func():\n",
    "    X = 'NI'\n",
    "    def nested():\n",
    "        nonlocal X\n",
    "        X = 'spam'\n",
    "    nested()\n",
    "    print(X)\n",
    "\n",
    "func()\n"
   ]
  },
  {
   "cell_type": "code",
   "execution_count": null,
   "id": "bff2b082",
   "metadata": {},
   "outputs": [],
   "source": []
  }
 ],
 "metadata": {
  "kernelspec": {
   "display_name": "Python 3",
   "language": "python",
   "name": "python3"
  },
  "language_info": {
   "codemirror_mode": {
    "name": "ipython",
    "version": 3
   },
   "file_extension": ".py",
   "mimetype": "text/x-python",
   "name": "python",
   "nbconvert_exporter": "python",
   "pygments_lexer": "ipython3",
   "version": "3.8.8"
  }
 },
 "nbformat": 4,
 "nbformat_minor": 5
}
