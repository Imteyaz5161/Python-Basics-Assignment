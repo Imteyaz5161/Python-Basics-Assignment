{
 "cells": [
  {
   "cell_type": "markdown",
   "id": "9953f088",
   "metadata": {},
   "source": [
    "# Assignment 9"
   ]
  },
  {
   "cell_type": "markdown",
   "id": "04927abb",
   "metadata": {},
   "source": [
    "## 1. To what does a relative path refer?"
   ]
  },
  {
   "cell_type": "markdown",
   "id": "4166a506",
   "metadata": {},
   "source": [
    "Relative paths are relative to the current working directory."
   ]
  },
  {
   "cell_type": "code",
   "execution_count": 6,
   "id": "ae06f51b",
   "metadata": {},
   "outputs": [
    {
     "data": {
      "text/plain": [
       "'C:\\\\Users\\\\mdimt\\\\Downloads\\\\Python Basic Program Assignment 14'"
      ]
     },
     "execution_count": 6,
     "metadata": {},
     "output_type": "execute_result"
    }
   ],
   "source": [
    "import os\n",
    "path = r'C:\\Users\\mdimt\\Downloads\\Python Basic Program Assignment 14'\n",
    "os.path.realpath(path)"
   ]
  },
  {
   "cell_type": "markdown",
   "id": "20e32b33",
   "metadata": {},
   "source": [
    "## 2. What does an absolute path start with your operating system?"
   ]
  },
  {
   "cell_type": "markdown",
   "id": "b6a3df4d",
   "metadata": {},
   "source": [
    "Absolute paths start with the root folder, such as / or C:"
   ]
  },
  {
   "cell_type": "code",
   "execution_count": 7,
   "id": "e4b6c9fa",
   "metadata": {},
   "outputs": [
    {
     "data": {
      "text/plain": [
       "'C:\\\\Users\\\\mdimt\\\\Downloads\\\\Python Basic Program Assignment 14'"
      ]
     },
     "execution_count": 7,
     "metadata": {},
     "output_type": "execute_result"
    }
   ],
   "source": [
    "os.path.abspath(path)"
   ]
  },
  {
   "cell_type": "markdown",
   "id": "efdfef2a",
   "metadata": {},
   "source": [
    "## 3. What do the functions os.getcwd() and os.chdir() do?"
   ]
  },
  {
   "cell_type": "markdown",
   "id": "af2ae5cf",
   "metadata": {},
   "source": [
    "The os.getcwd() function returns the current working directory.\n",
    "\n",
    "The os.chdir() function changes the current working directory."
   ]
  },
  {
   "cell_type": "markdown",
   "id": "6fa36024",
   "metadata": {},
   "source": [
    "## 4. What are the . and .. folders?"
   ]
  },
  {
   "cell_type": "markdown",
   "id": "a3de42ef",
   "metadata": {},
   "source": [
    "these are not real folder but are special names for path\n",
    "\n",
    "(.) = this directory\n",
    "\n",
    "(..)= parent directory"
   ]
  },
  {
   "cell_type": "markdown",
   "id": "e1dfa7ab",
   "metadata": {},
   "source": [
    "## 5. In C:\\bacon\\eggs\\spam.txt, which part is the dir name, and which part is the base name?"
   ]
  },
  {
   "cell_type": "markdown",
   "id": "fc8504dd",
   "metadata": {},
   "source": [
    "C:\\bacon\\eggs --> dir name\n",
    "\n",
    "spam.txt --> base name"
   ]
  },
  {
   "cell_type": "markdown",
   "id": "483b5f3d",
   "metadata": {},
   "source": [
    "## 6. What are the three “mode” arguments that can be passed to the open() function?"
   ]
  },
  {
   "cell_type": "markdown",
   "id": "b116a932",
   "metadata": {},
   "source": [
    "Three mode arguments are:\n",
    "\n",
    "1. 'r' --> open for reading in text mode.\n",
    "2. 'w' --> open for writing.\n",
    "3. 'a' --> open for appending."
   ]
  },
  {
   "cell_type": "markdown",
   "id": "3c72f7e4",
   "metadata": {},
   "source": [
    "## 7. What happens if an existing file is opened in write mode?"
   ]
  },
  {
   "cell_type": "markdown",
   "id": "4a7f23ce",
   "metadata": {},
   "source": [
    "An existing file opened in write mode is erased and completely overwritten."
   ]
  },
  {
   "cell_type": "markdown",
   "id": "fef21621",
   "metadata": {},
   "source": [
    "## 8. How do you tell the difference between read() and readlines()?"
   ]
  },
  {
   "cell_type": "markdown",
   "id": "2b58ec60",
   "metadata": {},
   "source": [
    "read() reads the entire file and returns a string,and readlines() returns a list of strings representing the lines of the file."
   ]
  },
  {
   "cell_type": "markdown",
   "id": "3ec0a469",
   "metadata": {},
   "source": [
    "read() --> it iterates over each character.\n",
    "\n",
    "readlines() --> read only single line of the file."
   ]
  },
  {
   "cell_type": "markdown",
   "id": "02df3ae3",
   "metadata": {},
   "source": [
    "## 9. What data structure does a shelf value resemble?"
   ]
  },
  {
   "cell_type": "markdown",
   "id": "b4d8b04b",
   "metadata": {},
   "source": [
    "A shelf value resembles a dictionary value; it has keys and values, along with keys() and values() methods that work similarly to the dictionary methods of the same names.\n",
    "#### or\n",
    "dictionary."
   ]
  },
  {
   "cell_type": "code",
   "execution_count": null,
   "id": "6df03dca",
   "metadata": {},
   "outputs": [],
   "source": []
  }
 ],
 "metadata": {
  "kernelspec": {
   "display_name": "Python 3",
   "language": "python",
   "name": "python3"
  },
  "language_info": {
   "codemirror_mode": {
    "name": "ipython",
    "version": 3
   },
   "file_extension": ".py",
   "mimetype": "text/x-python",
   "name": "python",
   "nbconvert_exporter": "python",
   "pygments_lexer": "ipython3",
   "version": "3.8.8"
  }
 },
 "nbformat": 4,
 "nbformat_minor": 5
}
