{
 "cells": [
  {
   "cell_type": "markdown",
   "id": "f87f9786",
   "metadata": {},
   "source": [
    "# Assignment 21"
   ]
  },
  {
   "cell_type": "markdown",
   "id": "b4fae916",
   "metadata": {},
   "source": [
    "## 1. Add the current date to the text file today.txt as a string."
   ]
  },
  {
   "cell_type": "code",
   "execution_count": 5,
   "id": "25c4a84e",
   "metadata": {},
   "outputs": [
    {
     "data": {
      "text/plain": [
       "'2023-02-07'"
      ]
     },
     "execution_count": 5,
     "metadata": {},
     "output_type": "execute_result"
    }
   ],
   "source": [
    "import datetime\n",
    "from datetime import date\n",
    "now = date.today()\n",
    "current_date = now.isoformat()\n",
    "current_date"
   ]
  },
  {
   "cell_type": "code",
   "execution_count": 6,
   "id": "ae14c4ad",
   "metadata": {},
   "outputs": [],
   "source": [
    "with open('today.txt','w') as file:\n",
    "    file.write(current_date)"
   ]
  },
  {
   "cell_type": "markdown",
   "id": "c4c714c7",
   "metadata": {},
   "source": [
    "## 2. Read the text file today.txt into the string today_string"
   ]
  },
  {
   "cell_type": "code",
   "execution_count": 7,
   "id": "230a266f",
   "metadata": {},
   "outputs": [
    {
     "data": {
      "text/plain": [
       "'2023-02-07'"
      ]
     },
     "execution_count": 7,
     "metadata": {},
     "output_type": "execute_result"
    }
   ],
   "source": [
    "with open('today.txt','r') as file:\n",
    "    today_string = file.read()\n",
    "today_string"
   ]
  },
  {
   "cell_type": "markdown",
   "id": "4d336c50",
   "metadata": {},
   "source": [
    "## 3. Parse the date from today_string."
   ]
  },
  {
   "cell_type": "code",
   "execution_count": 8,
   "id": "ce1e0adb",
   "metadata": {},
   "outputs": [
    {
     "name": "stdout",
     "output_type": "stream",
     "text": [
      "2023-02-07 00:00:00\n"
     ]
    }
   ],
   "source": [
    "from datetime import datetime\n",
    "parsed_data = datetime.strptime(today_string, '%Y-%m-%d')\n",
    "print(parsed_data)"
   ]
  },
  {
   "cell_type": "markdown",
   "id": "802230b3",
   "metadata": {},
   "source": [
    "## 4. List the files in your current directory"
   ]
  },
  {
   "cell_type": "code",
   "execution_count": null,
   "id": "3cff783d",
   "metadata": {},
   "outputs": [],
   "source": [
    "import os\n",
    "for folders, subfolders, files in os.walk(os.getcwd()):\n",
    "    for file in files:\n",
    "        print(file)"
   ]
  },
  {
   "cell_type": "markdown",
   "id": "49a62218",
   "metadata": {},
   "source": [
    "## 5. Create a list of all of the files in your parent directory (minimum five files should be available)."
   ]
  },
  {
   "cell_type": "code",
   "execution_count": 16,
   "id": "c3a98be5",
   "metadata": {},
   "outputs": [
    {
     "data": {
      "text/plain": [
       "[' 12th Nov Live Class Functions revision.ipynb',\n",
       " ' Random Forest SVM.ipynb',\n",
       " ' Working with Pandas day2 revision.ipynb',\n",
       " '.anaconda',\n",
       " '.astropy',\n",
       " '.conda',\n",
       " '.condarc',\n",
       " '.continuum',\n",
       " '.cufflinks',\n",
       " '.git',\n",
       " '.git-for-windows-updater',\n",
       " '.idlerc',\n",
       " '.ipynb_checkpoints',\n",
       " '.ipython',\n",
       " '.jupyter',\n",
       " '.kivy',\n",
       " '.matplotlib',\n",
       " '.ms-ad',\n",
       " '.spyder-py3',\n",
       " '.vscode',\n",
       " '1.Python Fundamentals and Advanced Python.zip',\n",
       " '13th Nov Live Class Functions 4 revision.ipynb',\n",
       " '19.3 MongoDB',\n",
       " '19.3 MongoDB.7z',\n",
       " '29th Oct Live Class Function Basic Revision.ipynb',\n",
       " '3D Objects',\n",
       " '6thMarch-20220803T090951Z-001.zip',\n",
       " 'A &B Testing Project Python.ipynb',\n",
       " 'abc.zip',\n",
       " 'addresses.csv',\n",
       " 'airfoil_self_noise.dat',\n",
       " 'anaconda3',\n",
       " 'ApiTest',\n",
       " 'AppData',\n",
       " 'Application Data',\n",
       " 'archive.zip',\n",
       " 'Assignment_1.docx',\n",
       " 'Bag of Words',\n",
       " 'bank-full.csv',\n",
       " 'bank-names.txt',\n",
       " 'bank.csv',\n",
       " 'books.csv',\n",
       " 'books.db',\n",
       " 'califcrime.csv',\n",
       " 'car.data',\n",
       " 'carbon_nanotubes.csv',\n",
       " 'class assignment oops.ipynb',\n",
       " 'Classified Data',\n",
       " 'classTask_MongoDB_SQLite-20220803T085516Z-001.zip',\n",
       " 'class_task_MongoDB_SQlite.pdf',\n",
       " 'code with harry scrapper.ipynb',\n",
       " 'conda',\n",
       " 'Contacts',\n",
       " 'contacts.csv',\n",
       " 'control_group.csv',\n",
       " 'Cookies',\n",
       " 'Credit Card Risk Assessment',\n",
       " 'Credit Score Classification.ipynb',\n",
       " 'cricket.csv',\n",
       " 'Decision Tree Regressor.ipynb',\n",
       " 'Decisiontree.ipynb',\n",
       " 'demo_002.ipynb',\n",
       " 'demo_003.ipynb',\n",
       " 'demo_2 live_classes_ineuron_revision.ipynb',\n",
       " 'dict.log',\n",
       " 'Documents',\n",
       " 'docword.enron.txt.gz',\n",
       " 'docword.kos.txt.gz',\n",
       " 'docword.nips.txt.gz',\n",
       " 'docword.nytimes.txt.gz',\n",
       " 'Downloads',\n",
       " 'eda_data.csv',\n",
       " 'example.tsv',\n",
       " 'Exception Handling Class 2.ipynb',\n",
       " 'Exception Handling Class1 Part1.ipynb',\n",
       " 'Favorites',\n",
       " 'For Loop & While Loops Revision.ipynb',\n",
       " 'for loops while loop.ipynb',\n",
       " 'FSDS_bootcamp_assignment_002_Oct_01.ipynb',\n",
       " 'FSDS_bootcamp_assignment_004_Oct_09 (1).ipynb',\n",
       " 'Function and holiday task.ipynb',\n",
       " 'Function continued.ipynb',\n",
       " 'function part1.ipynb',\n",
       " 'function part2.ipynb',\n",
       " 'functions task 20 question.txt',\n",
       " 'glass.data',\n",
       " 'glassdoor_jobs.csv',\n",
       " 'Graph Class Assignment.ipynb',\n",
       " 'graphs day 2.ipynb',\n",
       " 'GUI Programming 2 revision.ipynb',\n",
       " 'GUI Programming 3 revision.ipynb',\n",
       " 'holiday 20 assignment.ipynb',\n",
       " 'holiday_schedules.csv',\n",
       " 'ineuron.db',\n",
       " 'IntelGraphicsProfiles',\n",
       " 'Iterator Generator File System.ipynb',\n",
       " 'iterator generator.ipynb',\n",
       " 'Jedi',\n",
       " 'jobdb.db',\n",
       " 'json_res.csv',\n",
       " 'jupyter',\n",
       " 'K Nearest Neighbors with Python.ipynb',\n",
       " 'Lassoand Regression.ipynb',\n",
       " 'Links',\n",
       " 'live_3demo_classes_ineuron_revision.ipynb',\n",
       " 'live_classes_revision_29oct.ipynb',\n",
       " 'Local Settings',\n",
       " 'locations.csv',\n",
       " 'logging (1).ipynb',\n",
       " 'Logging class.ipynb',\n",
       " 'Logisstic Practical.ipynb',\n",
       " 'LUSID Excel - Business Agility - Making Simple Changes Quickly & Easily.xlsx',\n",
       " 'LUSID Excel - Maintain a product in multiple currencies and share classes.xlsx',\n",
       " 'LUSID Excel - Manage instruments with economic definitions.xlsx',\n",
       " 'LUSID Excel - Manage Orders.xlsx',\n",
       " 'LUSID Excel - Manage your investment strategies.xlsx',\n",
       " 'LUSID Excel - Setting up your IBOR.xlsx',\n",
       " 'LUSID Excel - Setting up your market data.xlsx',\n",
       " 'mail_addresses.csv',\n",
       " 'map_created.html',\n",
       " 'Microsoft',\n",
       " 'MicrosoftEdgeBackups',\n",
       " 'model.pkl',\n",
       " 'Module_Packages.ipynb',\n",
       " 'mongo db class1 revision.ipynb',\n",
       " 'mongodb class 1.ipynb',\n",
       " 'Music',\n",
       " 'My Documents',\n",
       " 'mydict.py',\n",
       " 'NBA.csv',\n",
       " 'nbextensions.ipynb',\n",
       " 'NetHood',\n",
       " 'ntuser.dat',\n",
       " 'ntuser.dat.log1',\n",
       " 'ntuser.dat.log2',\n",
       " 'NTUSER.DAT{6f75a04f-b9b9-11eb-89f2-34f64ba6c75e}.TM.blf',\n",
       " 'NTUSER.DAT{6f75a04f-b9b9-11eb-89f2-34f64ba6c75e}.TMContainer00000000000000000001.regtrans-ms',\n",
       " 'NTUSER.DAT{6f75a04f-b9b9-11eb-89f2-34f64ba6c75e}.TMContainer00000000000000000002.regtrans-ms',\n",
       " 'ntuser.dat{c15943c7-8b6a-11ed-8a7e-107d1a37590c}.TM.blf',\n",
       " 'ntuser.dat{c15943c7-8b6a-11ed-8a7e-107d1a37590c}.TMContainer00000000000000000001.regtrans-ms',\n",
       " 'ntuser.dat{c15943c7-8b6a-11ed-8a7e-107d1a37590c}.TMContainer00000000000000000002.regtrans-ms',\n",
       " 'ntuser.ini',\n",
       " 'numpy day 2.ipynb',\n",
       " 'Numpy methods revision.ipynb',\n",
       " 'OneDrive',\n",
       " 'oops 29th .ipynb',\n",
       " 'oops 30th.ipynb',\n",
       " 'oops class 1.ipynb',\n",
       " 'Oops class part2.ipynb',\n",
       " 'OOPs Concepts Polymorphism revision.ipynb',\n",
       " 'Oops part1 revision.ipynb',\n",
       " 'organizations.csv',\n",
       " 'output.csv',\n",
       " 'Pandas and Numpy revision.ipynb',\n",
       " 'pandas and numpy.ipynb',\n",
       " 'pandas class 3.ipynb',\n",
       " 'Pandas Data Analysis Part 1 class task.ipynb',\n",
       " 'Pandas Data Analysis Part 1 revision.ipynb',\n",
       " 'pandas day 2.ipynb',\n",
       " 'pandas day4 revision.ipynb',\n",
       " 'Pandas revision.ipynb',\n",
       " 'person.db',\n",
       " 'phones.csv',\n",
       " 'pip',\n",
       " 'Postman',\n",
       " 'Pridiction Using Supervised ML.ipynb',\n",
       " 'PrintHood',\n",
       " 'Programming_Assingment1.docx',\n",
       " 'programs.csv',\n",
       " 'Project pandas california crime .ipynb',\n",
       " 'Project Pandas Online retail dataset .ipynb',\n",
       " 'PycharmProjects',\n",
       " 'Python Basic Assignment 3.ipynb',\n",
       " 'Python Basic Assignment 4.ipynb',\n",
       " 'Python Basic Assignment 5.ipynb',\n",
       " 'Python Basic Assignment 6.ipynb',\n",
       " 'Python Basic Program Assignment 10.ipynb',\n",
       " 'Python Basic Program Assignment 11.ipynb',\n",
       " 'Python Basic Program Assignment 12.ipynb',\n",
       " 'Python Basic Program Assignment 13.ipynb',\n",
       " 'Python Basic Program Assignment 14.ipynb',\n",
       " 'Python Basic Program Assignment 15.ipynb',\n",
       " 'Python Basic Program Assignment 16.ipynb',\n",
       " 'Python Basic Program Assignment 17.ipynb',\n",
       " 'Python Basic Program Assignment 18.ipynb',\n",
       " 'Python Basic Program Assignment 19.ipynb',\n",
       " 'Python Basic Program Assignment 20.ipynb',\n",
       " 'Python Basic Program Assignment 21.ipynb',\n",
       " 'Python Basic Program Assignment 22.ipynb',\n",
       " 'Python Basic Program Assignment 23.ipynb',\n",
       " 'Python Basic Program Assignment 24.ipynb',\n",
       " 'Python Basic Program Assignment 25.ipynb',\n",
       " 'Python Basic Program Assignment 6.ipynb',\n",
       " 'Python Basic Program Assignment 7.ipynb',\n",
       " 'Python Basic Program Assignment 8.ipynb',\n",
       " 'Python Basic Program Assignment 9.ipynb',\n",
       " 'Python Basic Programming Assignment 3.ipynb',\n",
       " 'Python Basic Programming Assignment 4.ipynb',\n",
       " 'Python Basic Programming Assignment 5.ipynb',\n",
       " 'Python Basics Assignment 10.ipynb',\n",
       " 'Python Basics Assignment 11.ipynb',\n",
       " 'Python Basics Assignment 12.ipynb',\n",
       " 'Python Basics Assignment 13.ipynb',\n",
       " 'Python Basics Assignment 14.ipynb',\n",
       " 'Python Basics Assignment 15.ipynb',\n",
       " 'Python Basics Assignment 16.ipynb',\n",
       " 'Python Basics Assignment 17.ipynb',\n",
       " 'Python Basics Assignment 19.ipynb',\n",
       " 'Python Basics Assignment 2.ipynb',\n",
       " 'Python Basics Assignment 20.ipynb',\n",
       " 'Python Basics Assignment 21.ipynb',\n",
       " 'Python Basics Assignment 7.ipynb',\n",
       " 'Python Basics Assignment 8.ipynb',\n",
       " 'Python Basics Assignment1.ipynb',\n",
       " 'Python Basics Assignment_1.ipynb',\n",
       " 'Python Basics Program Assignment1.ipynb',\n",
       " 'Python Basics Programming_Assignment_2.ipynb',\n",
       " 'Python Pandas Mini Lung Capacity Project.ipynb',\n",
       " 'pythonProject',\n",
       " 'readme.txt',\n",
       " 'Recent',\n",
       " 'regex.ipynb',\n",
       " 'regular_schedules.csv',\n",
       " 'Review crapper.ipynb',\n",
       " 'salary_data_cleaned.csv',\n",
       " 'Saved Games',\n",
       " 'seaborn-data',\n",
       " 'Searches',\n",
       " 'SendTo',\n",
       " 'services.csv',\n",
       " 'Setup.zip',\n",
       " 'SQL basic .ipynb',\n",
       " 'sql day 2 .ipynb',\n",
       " 'SQL lite, map, reduce, filter, zip Assignment.ipynb',\n",
       " 'SQL lite, map, reduce, filter,zip revision.ipynb',\n",
       " 'SQL part 1 revision.ipynb',\n",
       " 'SQL part2 revision.ipynb',\n",
       " 'SQLLITE ,map ,reduce ,filter,zip.ipynb',\n",
       " 'Start Menu',\n",
       " 'statistics day2.ipynb',\n",
       " 'Statistics day4.ipynb',\n",
       " 'Statistics with data science project.ipynb',\n",
       " 'submission.csv',\n",
       " 'SVM Kernelss Implementation.ipynb',\n",
       " 'taxonomy.csv',\n",
       " 'Templates',\n",
       " 'test.log',\n",
       " 'Test.png',\n",
       " 'test.text',\n",
       " 'test.txt',\n",
       " 'test1.py',\n",
       " 'test1.txt',\n",
       " 'test2.py',\n",
       " 'test2.tex',\n",
       " 'test3.py',\n",
       " 'test4.py',\n",
       " 'test43',\n",
       " 'test_group.csv',\n",
       " 'Text Analysis.txt',\n",
       " 'today.txt',\n",
       " 'train.csv',\n",
       " 'tree.dot',\n",
       " 'trial.txt',\n",
       " 'TSF GRIP Task 1 Imteyaz-Copy1.ipynb',\n",
       " 'TSF GRIP Task 1 Imteyaz.ipynb',\n",
       " 'tsst1.txt',\n",
       " 'Tutorial 10- Seaborn- Countplot(), Violinplot(), Boxplot()- Part2.ipynb',\n",
       " 'Tutorial 8- Matplotlib (Simple Visualization Library).ipynb',\n",
       " 'Tutorial 9- Seaborn Tutorial- Distplot, Joinplot, Pairplot Part 1.ipynb',\n",
       " 'Unconfirmed 19321.crdownload',\n",
       " 'Untitled Folder',\n",
       " 'Untitled.ipynb',\n",
       " 'untitled.txt',\n",
       " 'Untitled1.ipynb',\n",
       " 'Untitled10.ipynb',\n",
       " 'Untitled11.ipynb',\n",
       " 'Untitled12.ipynb',\n",
       " 'Untitled13.ipynb',\n",
       " 'Untitled14.ipynb',\n",
       " 'Untitled15.ipynb',\n",
       " 'Untitled2.ipynb',\n",
       " 'Untitled3.ipynb',\n",
       " 'Untitled4.ipynb',\n",
       " 'Untitled5.ipynb',\n",
       " 'Untitled6.ipynb',\n",
       " 'Untitled7.ipynb',\n",
       " 'Untitled8.ipynb',\n",
       " 'Untitled9.ipynb',\n",
       " 'Videos',\n",
       " 'vocab.enron.txt',\n",
       " 'vocab.kos.txt',\n",
       " 'vocab.nips.txt',\n",
       " 'vocab.nytimes.txt',\n",
       " 'vocab.pubmed.txt',\n",
       " 'where',\n",
       " 'winrar-x64-611.exe',\n",
       " 'Working with Python MongoDB Part1 revision.ipynb',\n",
       " '__pycache__']"
      ]
     },
     "execution_count": 16,
     "metadata": {},
     "output_type": "execute_result"
    }
   ],
   "source": [
    "import os\n",
    "os.listdir()"
   ]
  },
  {
   "cell_type": "markdown",
   "id": "3cd14b4a",
   "metadata": {},
   "source": [
    "## 6. Use multiprocessing to create three separate processes. Make each one wait a random number of seconds between one and five, print the current time, and then exit."
   ]
  },
  {
   "cell_type": "code",
   "execution_count": 10,
   "id": "4fe94357",
   "metadata": {},
   "outputs": [],
   "source": [
    "import multiprocessing\n",
    "import time \n",
    "import random\n",
    "import datetime\n",
    "\n",
    "def procOne():\n",
    "    print(f'Proc_one_Starttime -> {datetime.datetime.now()}')\n",
    "    time.sleep(random.randint(1,5))\n",
    "    print(f'Proc_one_Endtime -> {datetime.datetime.now()}')\n",
    "    \n",
    "def procTwo():\n",
    "    print(f'Proc_two_Starttime -> {datetime.datetime.now()}')\n",
    "    time.sleep(random.randint(1,5))\n",
    "    print(f'Proc_two_Endtime -> {datetime.datetime.now()}')\n",
    "\n",
    "def procThree():\n",
    "    print(f'Proc_two_Starttime -> {datetime.datetime.now()}')\n",
    "    time.sleep(random.randint(1,5))\n",
    "    print(f'Proc_two_Endtime -> {datetime.datetime.now()}')\n",
    "    \n",
    "if __name__ == \"__main__\":    \n",
    "    p1 = multiprocessing.Process(target=procOne)\n",
    "    p2 = multiprocessing.Process(target=procTwo)\n",
    "    p3 = multiprocessing.Process(target=procThree)\n",
    "\n",
    "    p1.start()\n",
    "    p2.start()\n",
    "    p3.start()\n",
    "\n",
    "    p1.join()\n",
    "    p2.join()\n",
    "    p3.join()"
   ]
  },
  {
   "cell_type": "markdown",
   "id": "6fd5c3f5",
   "metadata": {},
   "source": [
    "## 7. Create a date object of your day of birth."
   ]
  },
  {
   "cell_type": "code",
   "execution_count": 11,
   "id": "be28ae53",
   "metadata": {},
   "outputs": [
    {
     "name": "stdout",
     "output_type": "stream",
     "text": [
      "1999-01-12 00:00:00 <class 'datetime.datetime'>\n"
     ]
    }
   ],
   "source": [
    "from datetime import datetime\n",
    "my_dob = datetime.strptime('12/01/1999','%d/%m/%Y')\n",
    "print(my_dob, type(my_dob))"
   ]
  },
  {
   "cell_type": "markdown",
   "id": "25bf8c0b",
   "metadata": {},
   "source": [
    "## 8. What day of the week was your day of birth?"
   ]
  },
  {
   "cell_type": "code",
   "execution_count": 12,
   "id": "ca1ee8d1",
   "metadata": {},
   "outputs": [
    {
     "data": {
      "text/plain": [
       "'Tuesday'"
      ]
     },
     "execution_count": 12,
     "metadata": {},
     "output_type": "execute_result"
    }
   ],
   "source": [
    "from datetime import datetime\n",
    "my_dob = datetime(1999,1,12)\n",
    "my_dob.strftime(\"%A\")"
   ]
  },
  {
   "cell_type": "markdown",
   "id": "e0e6e99d",
   "metadata": {},
   "source": [
    "## 9. When will you be (or when were you) 10,000 days old?"
   ]
  },
  {
   "cell_type": "code",
   "execution_count": 13,
   "id": "2a251eeb",
   "metadata": {},
   "outputs": [
    {
     "data": {
      "text/plain": [
       "datetime.datetime(1971, 8, 27, 0, 0)"
      ]
     },
     "execution_count": 13,
     "metadata": {},
     "output_type": "execute_result"
    }
   ],
   "source": [
    "from datetime import datetime, timedelta\n",
    "my_dob = datetime.strptime(\"12/01/1999\",'%d/%m/%Y')\n",
    "future_date = my_dob-timedelta(10000)\n",
    "future_date"
   ]
  },
  {
   "cell_type": "code",
   "execution_count": null,
   "id": "439c32af",
   "metadata": {},
   "outputs": [],
   "source": []
  }
 ],
 "metadata": {
  "kernelspec": {
   "display_name": "Python 3",
   "language": "python",
   "name": "python3"
  },
  "language_info": {
   "codemirror_mode": {
    "name": "ipython",
    "version": 3
   },
   "file_extension": ".py",
   "mimetype": "text/x-python",
   "name": "python",
   "nbconvert_exporter": "python",
   "pygments_lexer": "ipython3",
   "version": "3.8.8"
  }
 },
 "nbformat": 4,
 "nbformat_minor": 5
}
