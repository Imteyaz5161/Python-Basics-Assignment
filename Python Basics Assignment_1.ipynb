{
 "cells": [
  {
   "cell_type": "markdown",
   "id": "35c9c59b",
   "metadata": {},
   "source": [
    "# Assignment_1"
   ]
  },
  {
   "cell_type": "markdown",
   "id": "2ea466ad",
   "metadata": {},
   "source": [
    "# 1. In the below elements which of them are values or an expression? eg:- values can be integer or string and expressions will be mathematical operators."
   ]
  },
  {
   "cell_type": "raw",
   "id": "6925d33f",
   "metadata": {},
   "source": [
    "solution:-\n",
    "\n",
    " *  - expression\n",
    " \"hello\"- value\n",
    "\n",
    "  -87.8 - value\n",
    "  - - expression\n",
    "\n",
    "  / - expression\n",
    "  + - expression\n",
    "\n",
    "   6 - value"
   ]
  },
  {
   "cell_type": "markdown",
   "id": "e5889480",
   "metadata": {},
   "source": [
    "# 2. What is the difference between string and variable?\n"
   ]
  },
  {
   "cell_type": "markdown",
   "id": "8723ad3f",
   "metadata": {},
   "source": [
    "solution:-\n",
    "    \n",
    "    The string is 'krish'; the variable is krish. Strings always start and end with quotes.\n",
    "\n",
    "\n",
    "    string can be written in quotes as mention\n",
    "         \"Imteyaz\" (or) 'Imteyaz'\n",
    "    A string is a value representing text\n",
    "    All strings are variables, but not all variables are strings.\n",
    "\n",
    "\n",
    "    Variable is a thing which helps in holding a data in entity.\n",
    "    A variable is a name that can refer to any value\n",
    "    A variable can hold a string, but a string can't hold a variable."
   ]
  },
  {
   "cell_type": "markdown",
   "id": "be280ec7",
   "metadata": {},
   "source": [
    "# 3.Describe three different data forms?"
   ]
  },
  {
   "cell_type": "markdown",
   "id": "ee68b9be",
   "metadata": {},
   "source": [
    "solution:-\n",
    "\n",
    "i)    List is a collection which is ordered and changeable. Allows duplicate members. ex:-mylist = [\"apple\", \"banana\",           \"cherry\"]\n",
    "\n",
    "ii)   Tuple is a collection which is ordered and unchangeable. Allows duplicate members. ex:-tuple1 = (\"abc\", 34, True, 40,       \"male\")\n",
    "\n",
    "iii)  Set is a collection which is unordered and unindexed. No duplicate members. ex:-myset = {\"apple\", \"banana\", \"cherry\"}\n",
    "\n",
    "iv)   Dictionary is a collection which is ordered* and changeable. No duplicate members. ex:-thisdict = { \"brand\": \"Ford\",       \"model\": \"Mustang\", \"year\": 1964 }"
   ]
  },
  {
   "cell_type": "markdown",
   "id": "05c77945",
   "metadata": {},
   "source": [
    "# 4. What is an expression made up of? What do all expressions do?"
   ]
  },
  {
   "cell_type": "markdown",
   "id": "49616c07",
   "metadata": {},
   "source": [
    "solution:-  \n",
    "    expression is madeup of values,containers,and mathematical operators"
   ]
  },
  {
   "cell_type": "markdown",
   "id": "bce7c165",
   "metadata": {},
   "source": [
    "# 5. This assignment statements, like spam = 10. What is the difference between an expression and a statement?"
   ]
  },
  {
   "cell_type": "markdown",
   "id": "acc7b8f5",
   "metadata": {},
   "source": [
    "solution:- \n",
    "As we discussed above,expressions are values,containers,and mathematical operators. whereas,statement is like a command which python executes like list\n",
    "\n",
    "Statements represent an action or command e.g print statements, assignment statements.\n",
    "\n",
    "print ('hello'), x = 1, spam = 10."
   ]
  },
  {
   "cell_type": "markdown",
   "id": "5fc3d666",
   "metadata": {},
   "source": [
    "# 6. After running the following code, what does the variable bacon contain?\n",
    "bacon = 22\n",
    "\n",
    "bacon + 1\n",
    "\n",
    "solution:-\n"
   ]
  },
  {
   "cell_type": "code",
   "execution_count": 2,
   "id": "f48ece42",
   "metadata": {},
   "outputs": [
    {
     "data": {
      "text/plain": [
       "23"
      ]
     },
     "execution_count": 2,
     "metadata": {},
     "output_type": "execute_result"
    }
   ],
   "source": [
    "bacon = 22\n",
    "bacon + 1"
   ]
  },
  {
   "cell_type": "markdown",
   "id": "6a720a64",
   "metadata": {},
   "source": [
    "# 7. What should the values of the following two terms be?\n",
    "'spam' + 'spamspam'\n",
    "\n",
    "'spam' * 3\n",
    "\n",
    "solution:-"
   ]
  },
  {
   "cell_type": "code",
   "execution_count": 4,
   "id": "eb9ffb04",
   "metadata": {},
   "outputs": [
    {
     "data": {
      "text/plain": [
       "'spamspamspam'"
      ]
     },
     "execution_count": 4,
     "metadata": {},
     "output_type": "execute_result"
    }
   ],
   "source": [
    "'spam'+'spamspam'"
   ]
  },
  {
   "cell_type": "code",
   "execution_count": 5,
   "id": "bd19af25",
   "metadata": {},
   "outputs": [
    {
     "data": {
      "text/plain": [
       "'spamspamspam'"
      ]
     },
     "execution_count": 5,
     "metadata": {},
     "output_type": "execute_result"
    }
   ],
   "source": [
    "'spam'*3"
   ]
  },
  {
   "cell_type": "markdown",
   "id": "f80757ad",
   "metadata": {},
   "source": [
    "Both expressions evaluate to the string"
   ]
  },
  {
   "cell_type": "markdown",
   "id": "a03bb122",
   "metadata": {},
   "source": [
    "# 8. Why is eggs a valid variable name while 100 is invalid?\n"
   ]
  },
  {
   "cell_type": "markdown",
   "id": "cbd9adc4",
   "metadata": {},
   "source": [
    "solution:-\n",
    "\n",
    "    Variable names cannot start with a number.\n",
    "\n"
   ]
  },
  {
   "cell_type": "markdown",
   "id": "121eae66",
   "metadata": {},
   "source": [
    "# 9. What three functions can be used to get the integer, floating-point number, or string version of a value?\n"
   ]
  },
  {
   "cell_type": "markdown",
   "id": "610f9eec",
   "metadata": {},
   "source": [
    "solution:-\n",
    "    \n",
    "    int() , float(), str()\n",
    "\n"
   ]
  },
  {
   "cell_type": "markdown",
   "id": "8c45e2e1",
   "metadata": {},
   "source": [
    "# 10. Why does this expression cause an error? How can you fix it?\n",
    "'I have eaten ' + 99 + ' burritos.'\n",
    "\n"
   ]
  },
  {
   "cell_type": "markdown",
   "id": "f40deb7b",
   "metadata": {},
   "source": [
    "solution:-\n",
    "    \n",
    "    The expression causes an error because 99 is an integer, and only strings can be concatenated to other strings with the + operator. if i fix then taken 99 as str(99) then run"
   ]
  },
  {
   "cell_type": "code",
   "execution_count": 13,
   "id": "e987e599",
   "metadata": {},
   "outputs": [
    {
     "data": {
      "text/plain": [
       "'i have eaten99burritos'"
      ]
     },
     "execution_count": 13,
     "metadata": {},
     "output_type": "execute_result"
    }
   ],
   "source": [
    "'i have eaten' + str(99) + 'burritos'"
   ]
  },
  {
   "cell_type": "code",
   "execution_count": null,
   "id": "1d5da914",
   "metadata": {},
   "outputs": [],
   "source": []
  }
 ],
 "metadata": {
  "kernelspec": {
   "display_name": "Python 3",
   "language": "python",
   "name": "python3"
  },
  "language_info": {
   "codemirror_mode": {
    "name": "ipython",
    "version": 3
   },
   "file_extension": ".py",
   "mimetype": "text/x-python",
   "name": "python",
   "nbconvert_exporter": "python",
   "pygments_lexer": "ipython3",
   "version": "3.8.8"
  },
  "varInspector": {
   "cols": {
    "lenName": 16,
    "lenType": 16,
    "lenVar": 40
   },
   "kernels_config": {
    "python": {
     "delete_cmd_postfix": "",
     "delete_cmd_prefix": "del ",
     "library": "var_list.py",
     "varRefreshCmd": "print(var_dic_list())"
    },
    "r": {
     "delete_cmd_postfix": ") ",
     "delete_cmd_prefix": "rm(",
     "library": "var_list.r",
     "varRefreshCmd": "cat(var_dic_list()) "
    }
   },
   "types_to_exclude": [
    "module",
    "function",
    "builtin_function_or_method",
    "instance",
    "_Feature"
   ],
   "window_display": false
  }
 },
 "nbformat": 4,
 "nbformat_minor": 5
}
