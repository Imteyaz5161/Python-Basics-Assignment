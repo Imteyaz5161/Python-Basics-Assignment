{
 "cells": [
  {
   "cell_type": "markdown",
   "id": "14b81f42",
   "metadata": {},
   "source": [
    "# Python Basic Assignment 2"
   ]
  },
  {
   "cell_type": "markdown",
   "id": "e1c92311",
   "metadata": {},
   "source": [
    "## 1.What are the two values of the Boolean data type? How do you write them?\n"
   ]
  },
  {
   "cell_type": "raw",
   "id": "154140c7",
   "metadata": {},
   "source": [
    "solution:-\n",
    "    1. True\n",
    "    2. False\n",
    "    where as,\n",
    "    true=1\n",
    "    false=0"
   ]
  },
  {
   "cell_type": "code",
   "execution_count": 14,
   "id": "323c8f38",
   "metadata": {},
   "outputs": [
    {
     "name": "stdout",
     "output_type": "stream",
     "text": [
      "True\n"
     ]
    }
   ],
   "source": [
    "#Example:\n",
    "print(10>5)"
   ]
  },
  {
   "cell_type": "code",
   "execution_count": 15,
   "id": "bd77f447",
   "metadata": {},
   "outputs": [
    {
     "name": "stdout",
     "output_type": "stream",
     "text": [
      "False\n"
     ]
    }
   ],
   "source": [
    "#Example:\n",
    "print(5>10)"
   ]
  },
  {
   "cell_type": "markdown",
   "id": "f6a12ee7",
   "metadata": {},
   "source": [
    "## 2. What are the three different types of Boolean operators?\n"
   ]
  },
  {
   "cell_type": "raw",
   "id": "4ed77d42",
   "metadata": {},
   "source": [
    "solution:-\n",
    "    1. and\n",
    "    2. or\n",
    "    3. not\n",
    "    "
   ]
  },
  {
   "cell_type": "code",
   "execution_count": 17,
   "id": "4361c8b6",
   "metadata": {},
   "outputs": [
    {
     "name": "stdout",
     "output_type": "stream",
     "text": [
      "True\n"
     ]
    }
   ],
   "source": [
    "#example\n",
    "\n",
    "if 10>5 and 20>10:\n",
    "    print(True)"
   ]
  },
  {
   "cell_type": "code",
   "execution_count": 25,
   "id": "7a7671fb",
   "metadata": {},
   "outputs": [
    {
     "name": "stdout",
     "output_type": "stream",
     "text": [
      "False\n"
     ]
    }
   ],
   "source": [
    "#example\n",
    "if 10>5 or 20>10:\n",
    "    print(False)"
   ]
  },
  {
   "cell_type": "code",
   "execution_count": 26,
   "id": "db1c7fe6",
   "metadata": {},
   "outputs": [
    {
     "name": "stdout",
     "output_type": "stream",
     "text": [
      "[10, 20, 30, 40]\n"
     ]
    }
   ],
   "source": [
    "i = [10,20,30,40]\n",
    "v = []\n",
    "for v in i:\n",
    "    if v not in i:\n",
    "        m.append(v)\n",
    "print(i)"
   ]
  },
  {
   "cell_type": "markdown",
   "id": "4a83a7a6",
   "metadata": {},
   "source": [
    "## 3. Make a list of each Boolean operator's truth tables (i.e. every possible combination of Boolean values for the operator and what it evaluate ).\n"
   ]
  },
  {
   "cell_type": "raw",
   "id": "5d5d7e40",
   "metadata": {},
   "source": [
    "solution:-\n",
    "    True and True is True.\n",
    "    \n",
    "    True and False is False.\n",
    "    \n",
    "    False and True is False.\n",
    "    \n",
    "    False and False is False.\n",
    "    \n",
    "    True or True is True.\n",
    "    \n",
    "    True or False is True.\n",
    "    \n",
    "    False or True is True.\n",
    "    \n",
    "    False or False is False.\n",
    "    \n",
    "    not True is False.\n",
    "    \n",
    "    not False is True."
   ]
  },
  {
   "cell_type": "markdown",
   "id": "cecea1cf",
   "metadata": {},
   "source": [
    "### True is 1 and False is 0"
   ]
  },
  {
   "cell_type": "raw",
   "id": "65a668de",
   "metadata": {},
   "source": [
    "Truth Table for AND\n",
    "A B output\n",
    "0 0 0\n",
    "0 1 0\n",
    "1 0 0\n",
    "1 1 1\n",
    "Truth Table for OR\n",
    "A B output\n",
    "0 0 0\n",
    "0 1 1\n",
    "1 0 1\n",
    "1 1 1\n",
    "Truth Table for NOT\n",
    "A output\n",
    "0 1\n",
    "1 0"
   ]
  },
  {
   "cell_type": "markdown",
   "id": "7cab6268",
   "metadata": {},
   "source": [
    "## 4. What are the values of the following expressions?"
   ]
  },
  {
   "cell_type": "code",
   "execution_count": 33,
   "id": "e4e6afb4",
   "metadata": {},
   "outputs": [
    {
     "name": "stdout",
     "output_type": "stream",
     "text": [
      "False\n",
      "False\n",
      "True\n",
      "False\n",
      "False\n",
      "True\n"
     ]
    }
   ],
   "source": [
    "print((5 > 4) and (3 == 5))\n",
    "print(not (5 > 4))\n",
    "print((5 > 4) or (3 == 5))\n",
    "print(not ((5 > 4) or (3 == 5)))\n",
    "print((True and True) and (True == False))\n",
    "print((not False) or (not True))\n"
   ]
  },
  {
   "cell_type": "markdown",
   "id": "921fe30f",
   "metadata": {},
   "source": [
    "## 5. What are the six comparison operators?"
   ]
  },
  {
   "cell_type": "raw",
   "id": "800acca7",
   "metadata": {},
   "source": [
    "solution:-\n",
    "    1.!= not equal to\n",
    "    2.< greater than\n",
    "    3.> less than\n",
    "    4. <= less than equal to\n",
    "    5. >= greater than equal to\n",
    "    6. == equal to\n",
    "    "
   ]
  },
  {
   "cell_type": "markdown",
   "id": "67bacf47",
   "metadata": {},
   "source": [
    "## 6. How do you tell the difference between the equal to and assignment operators?Describe a condition and when you would use one.\n"
   ]
  },
  {
   "cell_type": "raw",
   "id": "776c0be2",
   "metadata": {},
   "source": [
    "solution:-\n",
    "    == is the equal to operator that compares two values and evaluates to a Boolean, while = is the assignment operator that stores a value in a variable."
   ]
  },
  {
   "cell_type": "code",
   "execution_count": 37,
   "id": "d06d5e6d",
   "metadata": {},
   "outputs": [
    {
     "name": "stdout",
     "output_type": "stream",
     "text": [
      "True\n"
     ]
    }
   ],
   "source": [
    "# example of assignment operator\n",
    "a = 10\n",
    "b = 10  \n",
    "\n",
    "# example of equal operator\n",
    "if a==b:\n",
    "    print(True)"
   ]
  },
  {
   "cell_type": "markdown",
   "id": "f2ad470f",
   "metadata": {},
   "source": [
    "## 7. Identify the three blocks in this code:\n"
   ]
  },
  {
   "cell_type": "code",
   "execution_count": 42,
   "id": "6ae35e72",
   "metadata": {},
   "outputs": [
    {
     "name": "stdout",
     "output_type": "stream",
     "text": [
      "ham\n",
      "spam\n",
      "spam\n"
     ]
    }
   ],
   "source": [
    "spam = 0\n",
    "if spam == 10:\n",
    "    print('eggs')    #Block 1\n",
    "if spam > 5:\n",
    "    print('bacon')   #Block 2\n",
    "else:\n",
    "    print('ham')     #Block 3\n",
    "    print('spam')\n",
    "    print('spam')"
   ]
  },
  {
   "cell_type": "markdown",
   "id": "3064c22f",
   "metadata": {},
   "source": [
    "## 8. Write code that prints Hello if 1 is stored in spam, prints Howdy if 2 is stored in spam, and prints Greetings! if anything else is stored in spam.\n"
   ]
  },
  {
   "cell_type": "code",
   "execution_count": 49,
   "id": "6ccee3c5",
   "metadata": {},
   "outputs": [
    {
     "name": "stdout",
     "output_type": "stream",
     "text": [
      "1\n",
      "Hello\n"
     ]
    }
   ],
   "source": [
    "spam=int(input())\n",
    "if spam==1:\n",
    "    print('Hello')\n",
    "elif spam==2:\n",
    "    print(Howdy)\n",
    "else:\n",
    "    print('Greetings!')"
   ]
  },
  {
   "cell_type": "code",
   "execution_count": 55,
   "id": "71670cd1",
   "metadata": {},
   "outputs": [
    {
     "name": "stdout",
     "output_type": "stream",
     "text": [
      "2\n",
      "Howdy\n"
     ]
    }
   ],
   "source": [
    "spam = int(input())\n",
    "if spam==1:\n",
    "    print(\"Hello\")\n",
    "elif spam==2:\n",
    "    print(\"Howdy\")\n",
    "else:\n",
    "    print(\"Greetings!\")"
   ]
  },
  {
   "cell_type": "code",
   "execution_count": 56,
   "id": "3e8dbdbb",
   "metadata": {},
   "outputs": [
    {
     "name": "stdout",
     "output_type": "stream",
     "text": [
      "3\n",
      "Greetings!\n"
     ]
    }
   ],
   "source": [
    "spam = int(input())\n",
    "if spam==1:\n",
    "    print(\"Hello\")\n",
    "elif spam==2:\n",
    "    print(\"Howdy\")\n",
    "else:\n",
    "    print(\"Greetings!\")"
   ]
  },
  {
   "cell_type": "markdown",
   "id": "628bc760",
   "metadata": {},
   "source": [
    "## 9.If your programme is stuck in an endless loop, what keys you’ll press?"
   ]
  },
  {
   "cell_type": "raw",
   "id": "1725de5a",
   "metadata": {},
   "source": [
    "solution:-\n",
    "     If program is stuck in endless loop we will press ctrl+c."
   ]
  },
  {
   "cell_type": "markdown",
   "id": "bf7312ec",
   "metadata": {},
   "source": [
    "## 10. How can you tell the difference between break and continue?\n"
   ]
  },
  {
   "cell_type": "code",
   "execution_count": 64,
   "id": "34733c80",
   "metadata": {},
   "outputs": [
    {
     "name": "stdout",
     "output_type": "stream",
     "text": [
      "0\n",
      "1\n",
      "2\n",
      "3\n",
      "4\n"
     ]
    }
   ],
   "source": [
    "#example of break:\n",
    "for v in range(10):\n",
    "    if v==5:\n",
    "        break\n",
    "    print(v)"
   ]
  },
  {
   "cell_type": "code",
   "execution_count": 65,
   "id": "81feb88a",
   "metadata": {},
   "outputs": [
    {
     "name": "stdout",
     "output_type": "stream",
     "text": [
      "0\n",
      "1\n",
      "2\n",
      "3\n",
      "4\n",
      "6\n",
      "7\n",
      "8\n",
      "9\n"
     ]
    }
   ],
   "source": [
    "#example of break:\n",
    "for v in range(10):\n",
    "    if v==5:\n",
    "        continue\n",
    "    print(v)"
   ]
  },
  {
   "cell_type": "raw",
   "id": "ecf65141",
   "metadata": {},
   "source": [
    "solution:-\n",
    "      The break statement will move the execution outside and just after a loop. The continue statement will move the             execution to the start of the loop."
   ]
  },
  {
   "cell_type": "markdown",
   "id": "a506ef75",
   "metadata": {},
   "source": [
    "## 11. In a for loop, what is the difference between range(10), range(0, 10), and range(0, 10, 1)?\n"
   ]
  },
  {
   "cell_type": "raw",
   "id": "ecba0b6c",
   "metadata": {},
   "source": [
    "solution:-\n",
    "    range(10) and range(0,10) are same because the both give numbers from 0 to 9.\n",
    "    also if range(0,10,1) give same output starting from 0 with increment of 1 \n",
    "    upto 9"
   ]
  },
  {
   "cell_type": "code",
   "execution_count": 69,
   "id": "e2bd0518",
   "metadata": {},
   "outputs": [
    {
     "name": "stdout",
     "output_type": "stream",
     "text": [
      "0\n",
      "1\n",
      "2\n",
      "3\n",
      "4\n",
      "5\n",
      "6\n",
      "7\n",
      "8\n",
      "9\n",
      "Dil\n",
      "0\n",
      "1\n",
      "2\n",
      "3\n",
      "4\n",
      "5\n",
      "6\n",
      "7\n",
      "8\n",
      "9\n",
      "Sagu\n",
      "0\n",
      "1\n",
      "2\n",
      "3\n",
      "4\n",
      "5\n",
      "6\n",
      "7\n",
      "8\n",
      "9\n"
     ]
    }
   ],
   "source": [
    "#example\n",
    "for i in range(10):\n",
    "    print(i)\n",
    "print(\"Dil\") \n",
    "for i in range(0,10):\n",
    "    print(i)\n",
    "print(\"Sagu\")\n",
    "for i in range(0,10,1):\n",
    "    print(i)"
   ]
  },
  {
   "cell_type": "markdown",
   "id": "96770417",
   "metadata": {},
   "source": [
    "## 12. Write a short program that prints the numbers 1 to 10 using a for loop. Then write an equivalent program that prints the numbers 1 to 10 using a while loop.\n"
   ]
  },
  {
   "cell_type": "code",
   "execution_count": 70,
   "id": "3abf8b06",
   "metadata": {},
   "outputs": [
    {
     "name": "stdout",
     "output_type": "stream",
     "text": [
      "1\n",
      "2\n",
      "3\n",
      "4\n",
      "5\n",
      "6\n",
      "7\n",
      "8\n",
      "9\n",
      "10\n"
     ]
    }
   ],
   "source": [
    "#for loop:\n",
    "\n",
    "for i in range(1,11):\n",
    "    print(i)"
   ]
  },
  {
   "cell_type": "code",
   "execution_count": 71,
   "id": "449262fb",
   "metadata": {},
   "outputs": [
    {
     "name": "stdout",
     "output_type": "stream",
     "text": [
      "1\n",
      "2\n",
      "3\n",
      "4\n",
      "5\n",
      "6\n",
      "7\n",
      "8\n",
      "9\n",
      "10\n"
     ]
    }
   ],
   "source": [
    "#while loop:\n",
    "i = 1\n",
    "while i>0 and i<=10:\n",
    "    print(i)\n",
    "    i = i+1"
   ]
  },
  {
   "cell_type": "markdown",
   "id": "1cd22e5c",
   "metadata": {},
   "source": [
    "## 13. If you had a function named bacon() inside a module named spam, how would you call it after importing spam?\n"
   ]
  },
  {
   "cell_type": "raw",
   "id": "992165d9",
   "metadata": {},
   "source": [
    "This function can be called with spam.bacon()"
   ]
  }
 ],
 "metadata": {
  "kernelspec": {
   "display_name": "Python 3",
   "language": "python",
   "name": "python3"
  },
  "language_info": {
   "codemirror_mode": {
    "name": "ipython",
    "version": 3
   },
   "file_extension": ".py",
   "mimetype": "text/x-python",
   "name": "python",
   "nbconvert_exporter": "python",
   "pygments_lexer": "ipython3",
   "version": "3.8.8"
  },
  "varInspector": {
   "cols": {
    "lenName": 16,
    "lenType": 16,
    "lenVar": 40
   },
   "kernels_config": {
    "python": {
     "delete_cmd_postfix": "",
     "delete_cmd_prefix": "del ",
     "library": "var_list.py",
     "varRefreshCmd": "print(var_dic_list())"
    },
    "r": {
     "delete_cmd_postfix": ") ",
     "delete_cmd_prefix": "rm(",
     "library": "var_list.r",
     "varRefreshCmd": "cat(var_dic_list()) "
    }
   },
   "types_to_exclude": [
    "module",
    "function",
    "builtin_function_or_method",
    "instance",
    "_Feature"
   ],
   "window_display": false
  }
 },
 "nbformat": 4,
 "nbformat_minor": 5
}
